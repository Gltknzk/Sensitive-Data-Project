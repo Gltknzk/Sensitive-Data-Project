{
  "cells": [
    {
      "cell_type": "markdown",
      "metadata": {
        "id": "view-in-github"
      },
      "source": [
        "<a href=\"https://colab.research.google.com/github/DhilipSanjay/Detection-of-Sensitive-Data-Exposure-in-Images/blob/main/Text_Classification.ipynb\" target=\"_parent\"><img src=\"https://colab.research.google.com/assets/colab-badge.svg\" alt=\"Open In Colab\"/></a>"
      ]
    },
    {
      "cell_type": "markdown",
      "metadata": {
        "id": "sM59X-o79RgC"
      },
      "source": [
        "![datatera.jpg](data:image/jpeg;base64,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)\n",
        "\n",
        "\n",
        "\n",
        "# New Section"
      ]
    },
    {
      "cell_type": "markdown",
      "source": [
        "# **SENSITIVE DATA INDICATOR**"
      ],
      "metadata": {
        "id": "dMAoQzn2Nzu0"
      }
    },
    {
      "cell_type": "markdown",
      "source": [
        "# This notebook aims to capture Sensitive Data (Name, email address, password, phone number, date of birth etc) for a given Text Data.\n",
        "\n",
        "## Importing libraries and downloading the dataset"
      ],
      "metadata": {
        "id": "YxzKJJj4Nh-J"
      }
    },
    {
      "cell_type": "code",
      "execution_count": 1,
      "metadata": {
        "colab": {
          "base_uri": "https://localhost:8080/"
        },
        "id": "8FgMBeEXZfZO",
        "outputId": "e82d7aff-bbef-4831-f902-557709a517ff"
      },
      "outputs": [
        {
          "output_type": "stream",
          "name": "stdout",
          "text": [
            "Looking in indexes: https://pypi.org/simple, https://us-python.pkg.dev/colab-wheels/public/simple/\n",
            "Requirement already satisfied: tensorflow in /usr/local/lib/python3.7/dist-packages (2.8.2+zzzcolab20220527125636)\n",
            "Requirement already satisfied: tensorboard<2.9,>=2.8 in /usr/local/lib/python3.7/dist-packages (from tensorflow) (2.8.0)\n",
            "Requirement already satisfied: typing-extensions>=3.6.6 in /usr/local/lib/python3.7/dist-packages (from tensorflow) (4.2.0)\n",
            "Requirement already satisfied: flatbuffers>=1.12 in /usr/local/lib/python3.7/dist-packages (from tensorflow) (2.0)\n",
            "Requirement already satisfied: tensorflow-io-gcs-filesystem>=0.23.1 in /usr/local/lib/python3.7/dist-packages (from tensorflow) (0.26.0)\n",
            "Requirement already satisfied: astunparse>=1.6.0 in /usr/local/lib/python3.7/dist-packages (from tensorflow) (1.6.3)\n",
            "Requirement already satisfied: numpy>=1.20 in /usr/local/lib/python3.7/dist-packages (from tensorflow) (1.21.6)\n",
            "Requirement already satisfied: keras-preprocessing>=1.1.1 in /usr/local/lib/python3.7/dist-packages (from tensorflow) (1.1.2)\n",
            "Requirement already satisfied: six>=1.12.0 in /usr/local/lib/python3.7/dist-packages (from tensorflow) (1.15.0)\n",
            "Requirement already satisfied: h5py>=2.9.0 in /usr/local/lib/python3.7/dist-packages (from tensorflow) (3.1.0)\n",
            "Requirement already satisfied: absl-py>=0.4.0 in /usr/local/lib/python3.7/dist-packages (from tensorflow) (1.1.0)\n",
            "Requirement already satisfied: wrapt>=1.11.0 in /usr/local/lib/python3.7/dist-packages (from tensorflow) (1.14.1)\n",
            "Requirement already satisfied: tensorflow-estimator<2.9,>=2.8 in /usr/local/lib/python3.7/dist-packages (from tensorflow) (2.8.0)\n",
            "Requirement already satisfied: keras<2.9,>=2.8.0rc0 in /usr/local/lib/python3.7/dist-packages (from tensorflow) (2.8.0)\n",
            "Requirement already satisfied: termcolor>=1.1.0 in /usr/local/lib/python3.7/dist-packages (from tensorflow) (1.1.0)\n",
            "Requirement already satisfied: setuptools in /usr/local/lib/python3.7/dist-packages (from tensorflow) (57.4.0)\n",
            "Requirement already satisfied: protobuf<3.20,>=3.9.2 in /usr/local/lib/python3.7/dist-packages (from tensorflow) (3.17.3)\n",
            "Requirement already satisfied: grpcio<2.0,>=1.24.3 in /usr/local/lib/python3.7/dist-packages (from tensorflow) (1.46.3)\n",
            "Requirement already satisfied: google-pasta>=0.1.1 in /usr/local/lib/python3.7/dist-packages (from tensorflow) (0.2.0)\n",
            "Requirement already satisfied: gast>=0.2.1 in /usr/local/lib/python3.7/dist-packages (from tensorflow) (0.5.3)\n",
            "Requirement already satisfied: libclang>=9.0.1 in /usr/local/lib/python3.7/dist-packages (from tensorflow) (14.0.1)\n",
            "Requirement already satisfied: opt-einsum>=2.3.2 in /usr/local/lib/python3.7/dist-packages (from tensorflow) (3.3.0)\n",
            "Requirement already satisfied: wheel<1.0,>=0.23.0 in /usr/local/lib/python3.7/dist-packages (from astunparse>=1.6.0->tensorflow) (0.37.1)\n",
            "Requirement already satisfied: cached-property in /usr/local/lib/python3.7/dist-packages (from h5py>=2.9.0->tensorflow) (1.5.2)\n",
            "Requirement already satisfied: tensorboard-plugin-wit>=1.6.0 in /usr/local/lib/python3.7/dist-packages (from tensorboard<2.9,>=2.8->tensorflow) (1.8.1)\n",
            "Requirement already satisfied: markdown>=2.6.8 in /usr/local/lib/python3.7/dist-packages (from tensorboard<2.9,>=2.8->tensorflow) (3.3.7)\n",
            "Requirement already satisfied: werkzeug>=0.11.15 in /usr/local/lib/python3.7/dist-packages (from tensorboard<2.9,>=2.8->tensorflow) (1.0.1)\n",
            "Requirement already satisfied: google-auth<3,>=1.6.3 in /usr/local/lib/python3.7/dist-packages (from tensorboard<2.9,>=2.8->tensorflow) (1.35.0)\n",
            "Requirement already satisfied: tensorboard-data-server<0.7.0,>=0.6.0 in /usr/local/lib/python3.7/dist-packages (from tensorboard<2.9,>=2.8->tensorflow) (0.6.1)\n",
            "Requirement already satisfied: requests<3,>=2.21.0 in /usr/local/lib/python3.7/dist-packages (from tensorboard<2.9,>=2.8->tensorflow) (2.23.0)\n",
            "Requirement already satisfied: google-auth-oauthlib<0.5,>=0.4.1 in /usr/local/lib/python3.7/dist-packages (from tensorboard<2.9,>=2.8->tensorflow) (0.4.6)\n",
            "Requirement already satisfied: pyasn1-modules>=0.2.1 in /usr/local/lib/python3.7/dist-packages (from google-auth<3,>=1.6.3->tensorboard<2.9,>=2.8->tensorflow) (0.2.8)\n",
            "Requirement already satisfied: cachetools<5.0,>=2.0.0 in /usr/local/lib/python3.7/dist-packages (from google-auth<3,>=1.6.3->tensorboard<2.9,>=2.8->tensorflow) (4.2.4)\n",
            "Requirement already satisfied: rsa<5,>=3.1.4 in /usr/local/lib/python3.7/dist-packages (from google-auth<3,>=1.6.3->tensorboard<2.9,>=2.8->tensorflow) (4.8)\n",
            "Requirement already satisfied: requests-oauthlib>=0.7.0 in /usr/local/lib/python3.7/dist-packages (from google-auth-oauthlib<0.5,>=0.4.1->tensorboard<2.9,>=2.8->tensorflow) (1.3.1)\n",
            "Requirement already satisfied: importlib-metadata>=4.4 in /usr/local/lib/python3.7/dist-packages (from markdown>=2.6.8->tensorboard<2.9,>=2.8->tensorflow) (4.11.4)\n",
            "Requirement already satisfied: zipp>=0.5 in /usr/local/lib/python3.7/dist-packages (from importlib-metadata>=4.4->markdown>=2.6.8->tensorboard<2.9,>=2.8->tensorflow) (3.8.0)\n",
            "Requirement already satisfied: pyasn1<0.5.0,>=0.4.6 in /usr/local/lib/python3.7/dist-packages (from pyasn1-modules>=0.2.1->google-auth<3,>=1.6.3->tensorboard<2.9,>=2.8->tensorflow) (0.4.8)\n",
            "Requirement already satisfied: urllib3!=1.25.0,!=1.25.1,<1.26,>=1.21.1 in /usr/local/lib/python3.7/dist-packages (from requests<3,>=2.21.0->tensorboard<2.9,>=2.8->tensorflow) (1.24.3)\n",
            "Requirement already satisfied: idna<3,>=2.5 in /usr/local/lib/python3.7/dist-packages (from requests<3,>=2.21.0->tensorboard<2.9,>=2.8->tensorflow) (2.10)\n",
            "Requirement already satisfied: chardet<4,>=3.0.2 in /usr/local/lib/python3.7/dist-packages (from requests<3,>=2.21.0->tensorboard<2.9,>=2.8->tensorflow) (3.0.4)\n",
            "Requirement already satisfied: certifi>=2017.4.17 in /usr/local/lib/python3.7/dist-packages (from requests<3,>=2.21.0->tensorboard<2.9,>=2.8->tensorflow) (2022.5.18.1)\n",
            "Requirement already satisfied: oauthlib>=3.0.0 in /usr/local/lib/python3.7/dist-packages (from requests-oauthlib>=0.7.0->google-auth-oauthlib<0.5,>=0.4.1->tensorboard<2.9,>=2.8->tensorflow) (3.2.0)\n"
          ]
        }
      ],
      "source": [
        "pip install tensorflow\n"
      ]
    },
    {
      "cell_type": "code",
      "execution_count": 2,
      "metadata": {
        "id": "TzV8zbIvZfZQ"
      },
      "outputs": [],
      "source": [
        "import google.protobuf"
      ]
    },
    {
      "cell_type": "code",
      "execution_count": 3,
      "metadata": {
        "id": "leaIgZqWI9HX"
      },
      "outputs": [],
      "source": [
        "# Importing the necessary libraries\n",
        "import pandas as pd\n",
        "import tensorflow as tf\n"
      ]
    },
    {
      "cell_type": "code",
      "execution_count": 4,
      "metadata": {
        "id": "YC92Cms3ZfZT"
      },
      "outputs": [],
      "source": [
        "import json\n",
        "import os\n",
        "import random"
      ]
    },
    {
      "cell_type": "code",
      "execution_count": 5,
      "metadata": {
        "id": "Y5jj6pLRZfZW"
      },
      "outputs": [],
      "source": [
        "from tensorflow.keras.preprocessing.text import Tokenizer\n",
        "from tensorflow.keras.preprocessing.sequence import pad_sequences"
      ]
    },
    {
      "cell_type": "code",
      "execution_count": 6,
      "metadata": {
        "id": "Yt7FuSULZfZY"
      },
      "outputs": [],
      "source": [
        "sensitive_datafile = \"SensitiveDataset.json\"\n",
        "nonsensitive_datafile = \"NonSensitiveDataset.json\""
      ]
    },
    {
      "cell_type": "code",
      "execution_count": 7,
      "metadata": {
        "colab": {
          "base_uri": "https://localhost:8080/",
          "height": 36
        },
        "id": "CJG1_ohVZfZZ",
        "outputId": "5b6dd214-99e7-4bde-875b-03af84842d66"
      },
      "outputs": [
        {
          "output_type": "execute_result",
          "data": {
            "text/plain": [
              "'SensitiveDataset.json'"
            ],
            "application/vnd.google.colaboratory.intrinsic+json": {
              "type": "string"
            }
          },
          "metadata": {},
          "execution_count": 7
        }
      ],
      "source": [
        "sensitive_datafile"
      ]
    },
    {
      "cell_type": "code",
      "execution_count": 8,
      "metadata": {
        "id": "h_o7FrN_Jgr1"
      },
      "outputs": [],
      "source": [
        "# Necessary Variables\n",
        "vocab_size = 3000\n",
        "embedding_dim = 32\n",
        "max_length = 60\n",
        "truncation_type='post'\n",
        "padding_type='post'\n",
        "oov_tok = \"<OOV>\"\n",
        "training_size = 20000"
      ]
    },
    {
      "cell_type": "markdown",
      "metadata": {
        "id": "7i3YvPoe9ZaT"
      },
      "source": [
        "## Preprocessing the dataset"
      ]
    },
    {
      "cell_type": "code",
      "execution_count": 9,
      "metadata": {
        "colab": {
          "base_uri": "https://localhost:8080/"
        },
        "id": "vIUEAZOfJyy-",
        "outputId": "0b74a601-1866-4240-eefb-18384ef40254"
      },
      "outputs": [
        {
          "output_type": "stream",
          "name": "stdout",
          "text": [
            "Dataset Size:  31576\n",
            "Training Dataset Size:  20000\n",
            "Sample Training Data: username:elmar, password:darryl, email:elmar@home.nl, phone no:6664268772\n",
            "Validation Dataset Size:  11576\n",
            "Sample Validation Data: username:donald, password:yandel, email:donald@laposte.net, phone no:5761380635\n"
          ]
        }
      ],
      "source": [
        "dataList = []\n",
        "sentences = []\n",
        "labels = []\n",
        "# Stopwords should be removed or excluded from the given text so that more \n",
        "# focus can be given to those words which define the meaning of the text.\n",
        "stopwords = [ \"a\", \"about\", \"above\", \"after\", \"again\", \"against\", \"all\", \"am\", \"an\", \"and\",\n",
        "             \"any\", \"are\", \"as\", \"at\", \"be\", \"because\", \"been\", \"before\", \"being\", \"below\",\n",
        "             \"between\", \"both\", \"but\", \"by\", \"could\", \"did\", \"do\", \"does\", \"doing\", \"down\",\n",
        "             \"during\", \"each\", \"few\", \"for\", \"from\", \"further\", \"had\", \"has\", \"have\", \"having\",\n",
        "             \"he\", \"he'd\", \"he'll\", \"he's\", \"her\", \"here\", \"here's\", \"hers\", \"herself\", \"him\", \"himself\",\n",
        "             \"his\", \"how\", \"how's\", \"i\", \"i'd\", \"i'll\", \"i'm\", \"i've\", \"if\", \"in\", \"into\", \"is\", \"it\",\n",
        "             \"it's\", \"its\", \"itself\", \"let's\", \"me\", \"more\", \"most\", \"my\", \"myself\", \"nor\", \"of\", \"on\",\n",
        "             \"once\", \"only\", \"or\", \"other\", \"ought\", \"our\", \"ours\", \"ourselves\", \"out\", \"over\", \"own\",\n",
        "             \"same\", \"she\", \"she'd\", \"she'll\", \"she's\", \"should\", \"so\", \"some\", \"such\", \"than\", \"that\",\n",
        "             \"that's\", \"the\", \"their\", \"theirs\", \"them\", \"themselves\", \"then\", \"there\", \"there's\", \"these\",\n",
        "             \"they\", \"they'd\", \"they'll\", \"they're\", \"they've\", \"this\", \"those\", \"through\", \"to\", \"too\",\n",
        "             \"under\", \"until\", \"up\", \"very\", \"was\", \"we\", \"we'd\", \"we'll\", \"we're\", \"we've\", \"were\", \"what\",\n",
        "             \"what's\", \"when\", \"when's\", \"where\", \"where's\", \"which\", \"while\", \"who\", \"who's\", \"whom\",\n",
        "             \"why\", \"why's\", \"with\", \"would\", \"you\", \"you'd\", \"you'll\", \"you're\", \"you've\", \"your\", \"yours\", \"yourself\", \"yourselves\" ]\n",
        "\n",
        "def loadDataset(filename):\n",
        "  with open(filename, 'r') as f:\n",
        "      datastore = json.load(f)\n",
        "  for item in datastore:\n",
        "    sentence = item['data']\n",
        "    label = item['is_sensitive']\n",
        "    for word in stopwords: #Remove stop words in sentence\n",
        "      token = \" \" + word + \" \"\n",
        "      sentence = sentence.replace(token, \" \")\n",
        "    dataList.append([sentence, label])\n",
        "\n",
        "# Loading both sensitive and non-sensitive dataset\n",
        "loadDataset(sensitive_datafile)\n",
        "loadDataset(nonsensitive_datafile)\n",
        "\n",
        "# Shuffling the dataset randomly\n",
        "random.shuffle(dataList)\n",
        "\n",
        "# Dataset size: 31500 (approx)\n",
        "print(\"Dataset Size: \", len(dataList))\n",
        "\n",
        "# Dataset has both sentences and labels\n",
        "for item in dataList:\n",
        "  sentences.append(item[0])\n",
        "  labels.append(item[1])\n",
        "\n",
        "# Splitting up the total dataset\n",
        "# Training size = 20000\n",
        "# Validation size = 11500 (approx)\n",
        "training_sentences = sentences[0:training_size]\n",
        "validation_sentences = sentences[training_size:]\n",
        "training_labels = labels[0:training_size]\n",
        "validation_labels = labels[training_size:]\n",
        "\n",
        "print(\"Training Dataset Size: \", len(training_sentences))\n",
        "print(\"Sample Training Data:\", training_sentences[1])\n",
        "print(\"Validation Dataset Size: \", len(validation_sentences))\n",
        "print(\"Sample Validation Data:\", validation_sentences[1])"
      ]
    },
    {
      "cell_type": "code",
      "source": [
        "sen=pd.read_json(sensitive_datafile)\n",
        "sen.head()"
      ],
      "metadata": {
        "colab": {
          "base_uri": "https://localhost:8080/",
          "height": 206
        },
        "id": "5m6rBYtfKcSb",
        "outputId": "dff1c583-91cc-4dc0-bc11-624334e225b1"
      },
      "execution_count": 10,
      "outputs": [
        {
          "output_type": "execute_result",
          "data": {
            "text/plain": [
              "   is_sensitive                                               data\n",
              "0             1  username:aaliyah, password:123456, email:aaliy...\n",
              "1             1  username:aaren, password:12345, email:aaren@ya...\n",
              "2             1  username:aarika, password:123456789, email:aar...\n",
              "3             1  username:aaron, password:iloveyou, email:aaron...\n",
              "4             1  username:aartjan, password:princess, email:aar..."
            ],
            "text/html": [
              "\n",
              "  <div id=\"df-7c62eccb-b078-4822-a210-0025aa43dc01\">\n",
              "    <div class=\"colab-df-container\">\n",
              "      <div>\n",
              "<style scoped>\n",
              "    .dataframe tbody tr th:only-of-type {\n",
              "        vertical-align: middle;\n",
              "    }\n",
              "\n",
              "    .dataframe tbody tr th {\n",
              "        vertical-align: top;\n",
              "    }\n",
              "\n",
              "    .dataframe thead th {\n",
              "        text-align: right;\n",
              "    }\n",
              "</style>\n",
              "<table border=\"1\" class=\"dataframe\">\n",
              "  <thead>\n",
              "    <tr style=\"text-align: right;\">\n",
              "      <th></th>\n",
              "      <th>is_sensitive</th>\n",
              "      <th>data</th>\n",
              "    </tr>\n",
              "  </thead>\n",
              "  <tbody>\n",
              "    <tr>\n",
              "      <th>0</th>\n",
              "      <td>1</td>\n",
              "      <td>username:aaliyah, password:123456, email:aaliy...</td>\n",
              "    </tr>\n",
              "    <tr>\n",
              "      <th>1</th>\n",
              "      <td>1</td>\n",
              "      <td>username:aaren, password:12345, email:aaren@ya...</td>\n",
              "    </tr>\n",
              "    <tr>\n",
              "      <th>2</th>\n",
              "      <td>1</td>\n",
              "      <td>username:aarika, password:123456789, email:aar...</td>\n",
              "    </tr>\n",
              "    <tr>\n",
              "      <th>3</th>\n",
              "      <td>1</td>\n",
              "      <td>username:aaron, password:iloveyou, email:aaron...</td>\n",
              "    </tr>\n",
              "    <tr>\n",
              "      <th>4</th>\n",
              "      <td>1</td>\n",
              "      <td>username:aartjan, password:princess, email:aar...</td>\n",
              "    </tr>\n",
              "  </tbody>\n",
              "</table>\n",
              "</div>\n",
              "      <button class=\"colab-df-convert\" onclick=\"convertToInteractive('df-7c62eccb-b078-4822-a210-0025aa43dc01')\"\n",
              "              title=\"Convert this dataframe to an interactive table.\"\n",
              "              style=\"display:none;\">\n",
              "        \n",
              "  <svg xmlns=\"http://www.w3.org/2000/svg\" height=\"24px\"viewBox=\"0 0 24 24\"\n",
              "       width=\"24px\">\n",
              "    <path d=\"M0 0h24v24H0V0z\" fill=\"none\"/>\n",
              "    <path d=\"M18.56 5.44l.94 2.06.94-2.06 2.06-.94-2.06-.94-.94-2.06-.94 2.06-2.06.94zm-11 1L8.5 8.5l.94-2.06 2.06-.94-2.06-.94L8.5 2.5l-.94 2.06-2.06.94zm10 10l.94 2.06.94-2.06 2.06-.94-2.06-.94-.94-2.06-.94 2.06-2.06.94z\"/><path d=\"M17.41 7.96l-1.37-1.37c-.4-.4-.92-.59-1.43-.59-.52 0-1.04.2-1.43.59L10.3 9.45l-7.72 7.72c-.78.78-.78 2.05 0 2.83L4 21.41c.39.39.9.59 1.41.59.51 0 1.02-.2 1.41-.59l7.78-7.78 2.81-2.81c.8-.78.8-2.07 0-2.86zM5.41 20L4 18.59l7.72-7.72 1.47 1.35L5.41 20z\"/>\n",
              "  </svg>\n",
              "      </button>\n",
              "      \n",
              "  <style>\n",
              "    .colab-df-container {\n",
              "      display:flex;\n",
              "      flex-wrap:wrap;\n",
              "      gap: 12px;\n",
              "    }\n",
              "\n",
              "    .colab-df-convert {\n",
              "      background-color: #E8F0FE;\n",
              "      border: none;\n",
              "      border-radius: 50%;\n",
              "      cursor: pointer;\n",
              "      display: none;\n",
              "      fill: #1967D2;\n",
              "      height: 32px;\n",
              "      padding: 0 0 0 0;\n",
              "      width: 32px;\n",
              "    }\n",
              "\n",
              "    .colab-df-convert:hover {\n",
              "      background-color: #E2EBFA;\n",
              "      box-shadow: 0px 1px 2px rgba(60, 64, 67, 0.3), 0px 1px 3px 1px rgba(60, 64, 67, 0.15);\n",
              "      fill: #174EA6;\n",
              "    }\n",
              "\n",
              "    [theme=dark] .colab-df-convert {\n",
              "      background-color: #3B4455;\n",
              "      fill: #D2E3FC;\n",
              "    }\n",
              "\n",
              "    [theme=dark] .colab-df-convert:hover {\n",
              "      background-color: #434B5C;\n",
              "      box-shadow: 0px 1px 3px 1px rgba(0, 0, 0, 0.15);\n",
              "      filter: drop-shadow(0px 1px 2px rgba(0, 0, 0, 0.3));\n",
              "      fill: #FFFFFF;\n",
              "    }\n",
              "  </style>\n",
              "\n",
              "      <script>\n",
              "        const buttonEl =\n",
              "          document.querySelector('#df-7c62eccb-b078-4822-a210-0025aa43dc01 button.colab-df-convert');\n",
              "        buttonEl.style.display =\n",
              "          google.colab.kernel.accessAllowed ? 'block' : 'none';\n",
              "\n",
              "        async function convertToInteractive(key) {\n",
              "          const element = document.querySelector('#df-7c62eccb-b078-4822-a210-0025aa43dc01');\n",
              "          const dataTable =\n",
              "            await google.colab.kernel.invokeFunction('convertToInteractive',\n",
              "                                                     [key], {});\n",
              "          if (!dataTable) return;\n",
              "\n",
              "          const docLinkHtml = 'Like what you see? Visit the ' +\n",
              "            '<a target=\"_blank\" href=https://colab.research.google.com/notebooks/data_table.ipynb>data table notebook</a>'\n",
              "            + ' to learn more about interactive tables.';\n",
              "          element.innerHTML = '';\n",
              "          dataTable['output_type'] = 'display_data';\n",
              "          await google.colab.output.renderOutput(dataTable, element);\n",
              "          const docLink = document.createElement('div');\n",
              "          docLink.innerHTML = docLinkHtml;\n",
              "          element.appendChild(docLink);\n",
              "        }\n",
              "      </script>\n",
              "    </div>\n",
              "  </div>\n",
              "  "
            ]
          },
          "metadata": {},
          "execution_count": 10
        }
      ]
    },
    {
      "cell_type": "code",
      "source": [
        "nonsen=pd.read_json(nonsensitive_datafile)\n",
        "nonsen.head()"
      ],
      "metadata": {
        "colab": {
          "base_uri": "https://localhost:8080/",
          "height": 206
        },
        "id": "ccgkOyJ8LDAa",
        "outputId": "157a0f1b-fb67-4c63-ecb6-1fa46cbe60f2"
      },
      "execution_count": 11,
      "outputs": [
        {
          "output_type": "execute_result",
          "data": {
            "text/plain": [
              "   is_sensitive                                               data\n",
              "0             0  A bartender is working at a saloon, serving dr...\n",
              "1             0  The moon, painted with a smiling face hangs ov...\n",
              "2             0  The film, just over a minute long, is composed...\n",
              "3             0  Lasting just 61 seconds and consisting of two ...\n",
              "4             0  The earliest known adaptation of the classic f..."
            ],
            "text/html": [
              "\n",
              "  <div id=\"df-952422fb-585e-4bf4-90d5-9b75e4ee4502\">\n",
              "    <div class=\"colab-df-container\">\n",
              "      <div>\n",
              "<style scoped>\n",
              "    .dataframe tbody tr th:only-of-type {\n",
              "        vertical-align: middle;\n",
              "    }\n",
              "\n",
              "    .dataframe tbody tr th {\n",
              "        vertical-align: top;\n",
              "    }\n",
              "\n",
              "    .dataframe thead th {\n",
              "        text-align: right;\n",
              "    }\n",
              "</style>\n",
              "<table border=\"1\" class=\"dataframe\">\n",
              "  <thead>\n",
              "    <tr style=\"text-align: right;\">\n",
              "      <th></th>\n",
              "      <th>is_sensitive</th>\n",
              "      <th>data</th>\n",
              "    </tr>\n",
              "  </thead>\n",
              "  <tbody>\n",
              "    <tr>\n",
              "      <th>0</th>\n",
              "      <td>0</td>\n",
              "      <td>A bartender is working at a saloon, serving dr...</td>\n",
              "    </tr>\n",
              "    <tr>\n",
              "      <th>1</th>\n",
              "      <td>0</td>\n",
              "      <td>The moon, painted with a smiling face hangs ov...</td>\n",
              "    </tr>\n",
              "    <tr>\n",
              "      <th>2</th>\n",
              "      <td>0</td>\n",
              "      <td>The film, just over a minute long, is composed...</td>\n",
              "    </tr>\n",
              "    <tr>\n",
              "      <th>3</th>\n",
              "      <td>0</td>\n",
              "      <td>Lasting just 61 seconds and consisting of two ...</td>\n",
              "    </tr>\n",
              "    <tr>\n",
              "      <th>4</th>\n",
              "      <td>0</td>\n",
              "      <td>The earliest known adaptation of the classic f...</td>\n",
              "    </tr>\n",
              "  </tbody>\n",
              "</table>\n",
              "</div>\n",
              "      <button class=\"colab-df-convert\" onclick=\"convertToInteractive('df-952422fb-585e-4bf4-90d5-9b75e4ee4502')\"\n",
              "              title=\"Convert this dataframe to an interactive table.\"\n",
              "              style=\"display:none;\">\n",
              "        \n",
              "  <svg xmlns=\"http://www.w3.org/2000/svg\" height=\"24px\"viewBox=\"0 0 24 24\"\n",
              "       width=\"24px\">\n",
              "    <path d=\"M0 0h24v24H0V0z\" fill=\"none\"/>\n",
              "    <path d=\"M18.56 5.44l.94 2.06.94-2.06 2.06-.94-2.06-.94-.94-2.06-.94 2.06-2.06.94zm-11 1L8.5 8.5l.94-2.06 2.06-.94-2.06-.94L8.5 2.5l-.94 2.06-2.06.94zm10 10l.94 2.06.94-2.06 2.06-.94-2.06-.94-.94-2.06-.94 2.06-2.06.94z\"/><path d=\"M17.41 7.96l-1.37-1.37c-.4-.4-.92-.59-1.43-.59-.52 0-1.04.2-1.43.59L10.3 9.45l-7.72 7.72c-.78.78-.78 2.05 0 2.83L4 21.41c.39.39.9.59 1.41.59.51 0 1.02-.2 1.41-.59l7.78-7.78 2.81-2.81c.8-.78.8-2.07 0-2.86zM5.41 20L4 18.59l7.72-7.72 1.47 1.35L5.41 20z\"/>\n",
              "  </svg>\n",
              "      </button>\n",
              "      \n",
              "  <style>\n",
              "    .colab-df-container {\n",
              "      display:flex;\n",
              "      flex-wrap:wrap;\n",
              "      gap: 12px;\n",
              "    }\n",
              "\n",
              "    .colab-df-convert {\n",
              "      background-color: #E8F0FE;\n",
              "      border: none;\n",
              "      border-radius: 50%;\n",
              "      cursor: pointer;\n",
              "      display: none;\n",
              "      fill: #1967D2;\n",
              "      height: 32px;\n",
              "      padding: 0 0 0 0;\n",
              "      width: 32px;\n",
              "    }\n",
              "\n",
              "    .colab-df-convert:hover {\n",
              "      background-color: #E2EBFA;\n",
              "      box-shadow: 0px 1px 2px rgba(60, 64, 67, 0.3), 0px 1px 3px 1px rgba(60, 64, 67, 0.15);\n",
              "      fill: #174EA6;\n",
              "    }\n",
              "\n",
              "    [theme=dark] .colab-df-convert {\n",
              "      background-color: #3B4455;\n",
              "      fill: #D2E3FC;\n",
              "    }\n",
              "\n",
              "    [theme=dark] .colab-df-convert:hover {\n",
              "      background-color: #434B5C;\n",
              "      box-shadow: 0px 1px 3px 1px rgba(0, 0, 0, 0.15);\n",
              "      filter: drop-shadow(0px 1px 2px rgba(0, 0, 0, 0.3));\n",
              "      fill: #FFFFFF;\n",
              "    }\n",
              "  </style>\n",
              "\n",
              "      <script>\n",
              "        const buttonEl =\n",
              "          document.querySelector('#df-952422fb-585e-4bf4-90d5-9b75e4ee4502 button.colab-df-convert');\n",
              "        buttonEl.style.display =\n",
              "          google.colab.kernel.accessAllowed ? 'block' : 'none';\n",
              "\n",
              "        async function convertToInteractive(key) {\n",
              "          const element = document.querySelector('#df-952422fb-585e-4bf4-90d5-9b75e4ee4502');\n",
              "          const dataTable =\n",
              "            await google.colab.kernel.invokeFunction('convertToInteractive',\n",
              "                                                     [key], {});\n",
              "          if (!dataTable) return;\n",
              "\n",
              "          const docLinkHtml = 'Like what you see? Visit the ' +\n",
              "            '<a target=\"_blank\" href=https://colab.research.google.com/notebooks/data_table.ipynb>data table notebook</a>'\n",
              "            + ' to learn more about interactive tables.';\n",
              "          element.innerHTML = '';\n",
              "          dataTable['output_type'] = 'display_data';\n",
              "          await google.colab.output.renderOutput(dataTable, element);\n",
              "          const docLink = document.createElement('div');\n",
              "          docLink.innerHTML = docLinkHtml;\n",
              "          element.appendChild(docLink);\n",
              "        }\n",
              "      </script>\n",
              "    </div>\n",
              "  </div>\n",
              "  "
            ]
          },
          "metadata": {},
          "execution_count": 11
        }
      ]
    },
    {
      "cell_type": "code",
      "execution_count": 12,
      "metadata": {
        "colab": {
          "base_uri": "https://localhost:8080/"
        },
        "id": "Kt01OaiEMbQ9",
        "outputId": "04ce9509-5696-4e23-db18-c5cc4a7b07e5"
      },
      "outputs": [
        {
          "output_type": "stream",
          "name": "stdout",
          "text": [
            "Size of word index: 103097\n",
            "Saving the word index as JSON\n"
          ]
        }
      ],
      "source": [
        "# Tokenizer takes the num_words (here vocab_size = 3000) maximum occuring unique words from the dataset.\n",
        "# Anything out of these words will be treated as Out of Vocabulary(<oov>)\n",
        "# It strips the punctutations and removes upper-case letters.\n",
        "tokenizer = Tokenizer(num_words=vocab_size, oov_token=oov_tok)\n",
        "\n",
        "# Apply the tokenizer on training sentences and generate the word index\n",
        "# Eg: word_index[\"the\"] = 1; word_index[\"cat\"] = 2; etc.\n",
        "tokenizer.fit_on_texts(training_sentences)\n",
        "\n",
        "# Save the word index (Used for deploying in web application)\n",
        "word_index = tokenizer.word_index\n",
        "print(\"Size of word index:\", len(word_index))\n",
        "\n",
        "with open(\"word_index.json\", \"w\") as outfile:  \n",
        "    json.dump(word_index, outfile)\n",
        "    print(\"Saving the word index as JSON\")\n",
        "\n",
        "# Transforms each word in sentences to a sequence of integers based on the word_index\n",
        "training_sequences = tokenizer.texts_to_sequences(training_sentences)\n",
        "# To feed the text into neural network - sentences must be of the same length. Hence we'll be using padding.\n",
        "# If the sentences are smaller than the maxlen, then we'll pad (Here, we are using post padding)\n",
        "# If the sentences are larger than the maxlen, then we'll truncate (Here, we are using post truncation)\n",
        "training_padded = pad_sequences(training_sequences, maxlen=max_length, padding=padding_type, truncating=truncation_type)\n",
        "\n",
        "# Apply the same for validation data\n",
        "validation_sequences = tokenizer.texts_to_sequences(validation_sentences)\n",
        "validation_padded = pad_sequences(validation_sequences, maxlen=max_length, padding=padding_type, truncating=truncation_type)"
      ]
    },
    {
      "cell_type": "code",
      "execution_count": 13,
      "metadata": {
        "id": "SSHwIoCLPKPq"
      },
      "outputs": [],
      "source": [
        "# Convert to Numpy arrays, so as to get it to work with TensorFlow 2.x\n",
        "import numpy as np\n",
        "training_padded = np.array(training_padded)\n",
        "training_labels = np.array(training_labels)\n",
        "validation_padded = np.array(validation_padded)\n",
        "validation_labels = np.array(validation_labels)"
      ]
    },
    {
      "cell_type": "markdown",
      "metadata": {
        "id": "9OLtjmJw9ehH"
      },
      "source": [
        "## Model"
      ]
    },
    {
      "cell_type": "code",
      "execution_count": 14,
      "metadata": {
        "colab": {
          "base_uri": "https://localhost:8080/"
        },
        "id": "p5ADD9CuNFWB",
        "outputId": "6f2b9cff-f162-4396-8562-ba5fb2f2fe00"
      },
      "outputs": [
        {
          "output_type": "stream",
          "name": "stdout",
          "text": [
            "Model: \"sequential\"\n",
            "_________________________________________________________________\n",
            " Layer (type)                Output Shape              Param #   \n",
            "=================================================================\n",
            " embedding (Embedding)       (None, 60, 32)            96000     \n",
            "                                                                 \n",
            " conv1d (Conv1D)             (None, 56, 64)            10304     \n",
            "                                                                 \n",
            " global_average_pooling1d (G  (None, 64)               0         \n",
            " lobalAveragePooling1D)                                          \n",
            "                                                                 \n",
            " dense (Dense)               (None, 24)                1560      \n",
            "                                                                 \n",
            " dense_1 (Dense)             (None, 1)                 25        \n",
            "                                                                 \n",
            "=================================================================\n",
            "Total params: 107,889\n",
            "Trainable params: 107,889\n",
            "Non-trainable params: 0\n",
            "_________________________________________________________________\n"
          ]
        }
      ],
      "source": [
        "# Callbacks to cancel training after reaching a desired accuracy\n",
        "# This is done to avoid overfitting\n",
        "DESIRED_ACCURACY = 0.999\n",
        "class myCallback(tf.keras.callbacks.Callback):\n",
        "  def on_epoch_end(self, epoch, logs={}):\n",
        "    if logs.get('accuracy') > DESIRED_ACCURACY:\n",
        "      print(\"Reached 99.9% accuracy so cancelling training!\")\n",
        "      self.model.stop_training = True\n",
        "\n",
        "callbacks = myCallback()\n",
        "\n",
        "# Sequential - defines a SEQUENCE of layers in the neural network.\n",
        "model = tf.keras.Sequential([\n",
        "    # Embedding - Turns positive integers (indexes) into dense vectors of fixed size (here embedding_dim = 32).\n",
        "    tf.keras.layers.Embedding(vocab_size, embedding_dim, input_length=max_length),\n",
        "    # 1D convolution layer - filter size = 128, convolution window = 5, activation fn = ReLU\n",
        "    tf.keras.layers.Conv1D(64, 5, activation='relu'),\n",
        "    # Global average pooling operation (Flattening)\n",
        "    tf.keras.layers.GlobalAveragePooling1D(),\n",
        "    # Regular densely-connected Neural Network layer with ReLU activation function.\n",
        "    tf.keras.layers.Dense(24, activation='relu'),\n",
        "    # Regular densely-connected Neural Network layer with sigmoid activation function.\n",
        "    tf.keras.layers.Dense(1, activation='sigmoid')\n",
        "])\n",
        "\n",
        "# model.compile - Configures the model for training.\n",
        "model.compile(loss='binary_crossentropy',optimizer='adam',metrics=['accuracy'])\n",
        "# Adam -  optimization algorithm used instead of the classical stochastic gradient descent procedure to update network weights.\n",
        "\n",
        "# Display the summary of the model\n",
        "model.summary()"
      ]
    },
    {
      "cell_type": "markdown",
      "metadata": {
        "id": "mb2NlD159g8k"
      },
      "source": [
        "## Training"
      ]
    },
    {
      "cell_type": "code",
      "execution_count": 15,
      "metadata": {
        "colab": {
          "base_uri": "https://localhost:8080/"
        },
        "id": "7TP5ThxvNPK8",
        "outputId": "86281d39-05be-4b4e-c6a8-1eb0905140f5"
      },
      "outputs": [
        {
          "output_type": "stream",
          "name": "stdout",
          "text": [
            "Epoch 1/6\n",
            "625/625 [==============================] - 8s 10ms/step - loss: 0.0513 - accuracy: 0.9892 - val_loss: 0.0038 - val_accuracy: 0.9987\n",
            "Epoch 2/6\n",
            "625/625 [==============================] - 6s 10ms/step - loss: 0.0017 - accuracy: 0.9995 - val_loss: 7.8687e-04 - val_accuracy: 0.9999\n",
            "Epoch 3/6\n",
            "625/625 [==============================] - 7s 11ms/step - loss: 3.6810e-04 - accuracy: 0.9999 - val_loss: 3.3862e-04 - val_accuracy: 0.9999\n",
            "Epoch 4/6\n",
            "625/625 [==============================] - 6s 10ms/step - loss: 1.5917e-04 - accuracy: 0.9999 - val_loss: 1.9365e-04 - val_accuracy: 0.9999\n",
            "Epoch 5/6\n",
            "625/625 [==============================] - 7s 11ms/step - loss: 8.2039e-05 - accuracy: 0.9999 - val_loss: 8.5576e-05 - val_accuracy: 1.0000\n",
            "Epoch 6/6\n",
            "625/625 [==============================] - 7s 10ms/step - loss: 3.9621e-05 - accuracy: 1.0000 - val_loss: 4.9519e-05 - val_accuracy: 1.0000\n"
          ]
        }
      ],
      "source": [
        "num_epochs = 6\n",
        "\n",
        "# model.fit - Train the model for a fixed number of epochs\n",
        "history = model.fit(training_padded, \n",
        "                    training_labels, \n",
        "                    epochs=num_epochs, \n",
        "                    validation_data=(\n",
        "                        validation_padded, \n",
        "                        validation_labels), \n",
        "                    verbose=1)\n",
        "                    #callbacks=[callbacks])"
      ]
    },
    {
      "cell_type": "markdown",
      "metadata": {
        "id": "poN5h1SD9tiE"
      },
      "source": [
        "## Plotting Accuracy and Loss Functions"
      ]
    },
    {
      "cell_type": "code",
      "execution_count": 16,
      "metadata": {
        "colab": {
          "base_uri": "https://localhost:8080/",
          "height": 541
        },
        "id": "WCDbITWsNWlI",
        "outputId": "77ddfb30-e750-4d74-d5b1-3d90fe041f1f"
      },
      "outputs": [
        {
          "output_type": "display_data",
          "data": {
            "text/plain": [
              "<Figure size 432x288 with 1 Axes>"
            ],
            "image/png": "[encoded data removed]"
          },
          "metadata": {
            "needs_background": "light"
          }
        },
        {
          "output_type": "display_data",
          "data": {
            "text/plain": [
              "<Figure size 432x288 with 1 Axes>"
            ],
            "image/png": "[encoded data removed]"
          },
          "metadata": {
            "needs_background": "light"
          }
        }
      ],
      "source": [
        "import matplotlib.pyplot as plt\n",
        "\n",
        "# Plot the accuracy and loss functions\n",
        "def plot_graphs(history, string):\n",
        "  plt.plot(history.history[string])\n",
        "  plt.plot(history.history['val_'+string])\n",
        "  plt.xlabel(\"Epochs\")\n",
        "  plt.ylabel(string)\n",
        "  plt.legend([string, 'val_'+string])\n",
        "  plt.show()\n",
        "  \n",
        "plot_graphs(history, \"accuracy\")\n",
        "plot_graphs(history, \"loss\")"
      ]
    },
    {
      "cell_type": "markdown",
      "metadata": {
        "id": "z9ymTQswYUQz"
      },
      "source": [
        "## Confusion Matrix"
      ]
    },
    {
      "cell_type": "code",
      "execution_count": 17,
      "metadata": {
        "colab": {
          "base_uri": "https://localhost:8080/",
          "height": 1000
        },
        "id": "tVdCGN-tYXqX",
        "outputId": "18c5f472-df4e-4d3c-8cd8-fb4f656b45e8"
      },
      "outputs": [
        {
          "output_type": "stream",
          "name": "stdout",
          "text": [
            "Confusion Matrix\n",
            "Accuracy for 2894 Test Data =  100.0\n",
            "Accuracy for 5788 Test Data =  100.0\n",
            "Accuracy for 8682 Test Data =  100.0\n",
            "Accuracy for 11576 Test Data =  100.0\n"
          ]
        },
        {
          "output_type": "display_data",
          "data": {
            "text/plain": [
              "<Figure size 720x504 with 2 Axes>"
            ],
            "image/png": "[encoded data removed]"
          },
          "metadata": {
            "needs_background": "light"
          }
        },
        {
          "output_type": "display_data",
          "data": {
            "text/plain": [
              "<Figure size 720x504 with 2 Axes>"
            ],
            "image/png": "[encoded data removed]"
          },
          "metadata": {
            "needs_background": "light"
          }
        },
        {
          "output_type": "display_data",
          "data": {
            "text/plain": [
              "<Figure size 720x504 with 2 Axes>"
            ],
            "image/png": "[encoded data removed]"
          },
          "metadata": {
            "needs_background": "light"
          }
        },
        {
          "output_type": "display_data",
          "data": {
            "text/plain": [
              "<Figure size 720x504 with 2 Axes>"
            ],
            "image/png": "[encoded data removed]"
          },
          "metadata": {
            "needs_background": "light"
          }
        }
      ],
      "source": [
        "import seaborn\n",
        "print('Confusion Matrix')\n",
        "y_predicted = model.predict(validation_padded)\n",
        "y_predicted_labels = y_predicted > 0.5\n",
        "\n",
        "size = np.size(y_predicted_labels)\n",
        "y_predicted_labels = y_predicted_labels.reshape(size, )\n",
        "\n",
        "for i in range (1, 5):\n",
        "  total = i * size // 4\n",
        "  cm = tf.math.confusion_matrix(labels=validation_labels[0:total],predictions=y_predicted_labels[0:total])\n",
        "\n",
        "  # Calculate accuracy\n",
        "  cm_np = cm.numpy()\n",
        "  conf_acc = (cm_np[0, 0] + cm_np[1, 1])/ np.sum(cm_np) * 100\n",
        "  print(\"Accuracy for\", str(total), \"Test Data = \", conf_acc)\n",
        "\n",
        "  # Plot the confusion matrix\n",
        "  plt.figure(figsize = (10,7))\n",
        "  seaborn.heatmap(cm, annot=True, fmt='d')\n",
        "  plt.title(\"Confusion Matrix for \" + str(total) + \" Test Data\")\n",
        "  plt.xlabel('Predicted')\n",
        "  plt.ylabel('Expected')"
      ]
    },
    {
      "cell_type": "markdown",
      "metadata": {
        "id": "f94fRNNo-386"
      },
      "source": [
        "## Saving the model"
      ]
    },
    {
      "cell_type": "code",
      "execution_count": 18,
      "metadata": {
        "colab": {
          "base_uri": "https://localhost:8080/"
        },
        "id": "F_rBTIVTQHow",
        "outputId": "cf0a27b3-5a57-4ea7-8543-f18737ccf377"
      },
      "outputs": [
        {
          "output_type": "stream",
          "name": "stdout",
          "text": [
            "Saved the model successfully\n",
            "Selecting previously unselected package python-pip-whl.\n",
            "(Reading database ... 155632 files and directories currently installed.)\n",
            "Preparing to unpack .../python-pip-whl_9.0.1-2.3~ubuntu1.18.04.5_all.deb ...\n",
            "Unpacking python-pip-whl (9.0.1-2.3~ubuntu1.18.04.5) ...\n",
            "Selecting previously unselected package python3-pkg-resources.\n",
            "Preparing to unpack .../python3-pkg-resources_39.0.1-2_all.deb ...\n",
            "Unpacking python3-pkg-resources (39.0.1-2) ...\n",
            "Selecting previously unselected package python3-virtualenv.\n",
            "Preparing to unpack .../python3-virtualenv_15.1.0+ds-1.1_all.deb ...\n",
            "Unpacking python3-virtualenv (15.1.0+ds-1.1) ...\n",
            "Selecting previously unselected package virtualenv.\n",
            "Preparing to unpack .../virtualenv_15.1.0+ds-1.1_all.deb ...\n",
            "Unpacking virtualenv (15.1.0+ds-1.1) ...\n",
            "Setting up python-pip-whl (9.0.1-2.3~ubuntu1.18.04.5) ...\n",
            "Setting up python3-pkg-resources (39.0.1-2) ...\n",
            "Setting up python3-virtualenv (15.1.0+ds-1.1) ...\n",
            "Setting up virtualenv (15.1.0+ds-1.1) ...\n",
            "Processing triggers for man-db (2.8.3-2ubuntu0.1) ...\n",
            "Already using interpreter /usr/bin/python3\n",
            "Using base prefix '/usr'\n",
            "New python executable in /content/venv/bin/python3\n",
            "Also creating executable in /content/venv/bin/python\n",
            "Installing setuptools, pkg_resources, pip, wheel...done.\n",
            "\u001b[K     |████████████████████████████████| 77 kB 2.9 MB/s \n",
            "\u001b[K     |████████████████████████████████| 40 kB 5.1 MB/s \n",
            "\u001b[31mERROR: pip's dependency resolver does not currently take into account all the packages that are installed. This behaviour is the source of the following dependency conflicts.\n",
            "datascience 0.10.6 requires folium==0.2.1, but you have folium 0.8.3 which is incompatible.\u001b[0m\n",
            "\u001b[?25hModel converted to JSON successfully\n"
          ]
        }
      ],
      "source": [
        "# Save and convert the model (Used for deploying in web application)\n",
        "model.save('model/text_model.h5')\n",
        "print(\"Saved the model successfully\")\n",
        "\n",
        "!apt-get -qq install virtualenv\n",
        "!virtualenv -p python3 venv\n",
        "!source venv/bin/activate\n",
        "!pip install -q tensorflowjs\n",
        "!tensorflowjs_converter --input_format=keras /content/model/text_model.h5 /content/text_model\n",
        "print(\"Model converted to JSON successfully\")"
      ]
    },
    {
      "cell_type": "markdown",
      "metadata": {
        "id": "plgECuQc9wdt"
      },
      "source": [
        "## Sample Data"
      ]
    },
    {
      "cell_type": "code",
      "execution_count": 59,
      "metadata": {
        "colab": {
          "base_uri": "https://localhost:8080/"
        },
        "id": "Kyfb-NtpNV7h",
        "outputId": "93719562-9f54-4af8-d3bd-e9951fb05a49"
      },
      "outputs": [
        {
          "output_type": "stream",
          "name": "stdout",
          "text": [
            "0.63924277\n",
            "This Data is More Likely Sensitive - His Name is John\n",
            "0.7199074\n",
            "This Data is More Likely Sensitive - Her name is Janet\n",
            "0.9316476\n",
            "This Data is More Likely Sensitive - date of birth:17-09-1972\n",
            "0.77564204\n",
            "This Data is More Likely Sensitive - passport number: 123456789\n",
            "0.82504517\n",
            "This Data is More Likely Sensitive - Phone Number is 555555555\n",
            "0.9511186\n",
            "This Data is More Likely Sensitive - Credit card number 341-547-787\n",
            "0.31879103\n",
            "This Data is More Likely Sensitive - Username:John\n",
            "0.3574302\n",
            "This Data is More Likely Sensitive - Password:1345\n",
            "0.0024568439\n",
            "This Data is Less Likely Sensitive - DataTera:Global Data Source for AI models\n",
            "0.05854541\n",
            "This Data is Less Likely Sensitive - Let's do this\n",
            "0.013905704\n",
            "This Data is Less Likely Sensitive - Her Race is White\n",
            "0.07006344\n",
            "This Data is Less Likely Sensitive - Race:Cacuasian\n",
            "0.05829549\n",
            "This Data is Less Likely Sensitive - Eye Color: Brown\n",
            "0.003276229\n",
            "This Data is Less Likely Sensitive - That was an awsome movie\n",
            "0.0023227334\n",
            "This Data is Less Likely Sensitive - Her glucose level was very high\n",
            "0.00061002374\n",
            "This Data is Less Likely Sensitive - She has sent her e-mail address for the meeting\n",
            "0.9480126\n",
            "This Data is More Likely Sensitive - Her email:janet@gmail.com\n",
            "0.76710784\n",
            "This Data is More Likely Sensitive - e-mail:john@gmail.com\n",
            "0.74475795\n",
            "This Data is More Likely Sensitive - fax number:12456789\n",
            "0.0012447536\n",
            "This Data is Less Likely Sensitive - Please do not share your private information\n"
          ]
        }
      ],
      "source": [
        "\n",
        "sentence = [\"His Name is John\",\n",
        "            \"Her name is Janet\",\n",
        "            \"date of birth:17-09-1972\",\n",
        "            \"passport number: 123456789\",\n",
        "            \"Phone Number is 555555555\",\n",
        "            \"Credit card number 341-547-787\",\n",
        "            \"Username:John\",\n",
        "            \"Password:1345\",\n",
        "            \"DataTera:Global Data Source for AI models\",\n",
        "            \"Let's do this\",\n",
        "            \"Her Race is White\",\n",
        "            \"Race:Cacuasian\",\n",
        "            \"Eye Color: Brown\",\n",
        "            \"That was an awsome movie\",\n",
        "            \"Her glucose level was very high\",\n",
        "            \"She has sent her e-mail address for the meeting\",\n",
        "            \"Her email:janet@gmail.com\",\n",
        "            \"e-mail:john@gmail.com\",\n",
        "            \"fax number:12456789\",\n",
        "            \"Please do not share your private information\"]\n",
        "sequences = tokenizer.texts_to_sequences(sentence)\n",
        "padded = pad_sequences(sequences, maxlen=max_length, padding=padding_type, truncating=truncation_type)\n",
        "predictions = model.predict(padded)\n",
        "for i in range(len(predictions)):\n",
        "  print(predictions[i][0])\n",
        "  if predictions[i][0]>0.3:\n",
        "    print(\"This Data is More Likely Sensitive - \"+ sentence[i])\n",
        "  else:\n",
        "    print(\"This Data is Less Likely Sensitive - \"+ sentence[i])"
      ]
    },
    {
      "cell_type": "code",
      "source": [
        "padded"
      ],
      "metadata": {
        "colab": {
          "base_uri": "https://localhost:8080/"
        },
        "id": "YFWgF2DSMMO-",
        "outputId": "51eb60a0-e6aa-45ad-f5b5-d2f8d6e13a29"
      },
      "execution_count": 61,
      "outputs": [
        {
          "output_type": "execute_result",
          "data": {
            "text/plain": [
              "array([[ 169,   25,  627, ...,    0,    0,    0],\n",
              "       [  13,   25,  627, ...,    0,    0,    0],\n",
              "       [ 105, 1269,  154, ...,    0,    0,    0],\n",
              "       ...,\n",
              "       [1600, 1422,   74, ...,    0,    0,    0],\n",
              "       [   1,  156,    1, ...,    0,    0,    0],\n",
              "       [   1, 1260,    6, ...,    0,    0,    0]], dtype=int32)"
            ]
          },
          "metadata": {},
          "execution_count": 61
        }
      ]
    }
  ],
  "metadata": {
    "colab": {
      "collapsed_sections": [],
      "name": "Text_Classification_DATATERA.ipynb",
      "provenance": []
    },
    "kernelspec": {
      "display_name": "Python 3.9.7 ('base')",
      "language": "python",
      "name": "python3"
    },
    "language_info": {
      "codemirror_mode": {
        "name": "ipython",
        "version": 3
      },
      "file_extension": ".py",
      "mimetype": "text/x-python",
      "name": "python",
      "nbconvert_exporter": "python",
      "pygments_lexer": "ipython3",
      "version": "3.9.7"
    },
    "vscode": {
      "interpreter": {
        "hash": "2c4f9237f2eaf91b3c3169033cec814e25d8031db0f29112af0981e595e0fde8"
      }
    }
  },
  "nbformat": 4,
  "nbformat_minor": 0
}